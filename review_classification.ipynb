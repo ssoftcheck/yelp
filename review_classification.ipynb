{
 "cells": [
  {
   "cell_type": "code",
   "execution_count": null,
   "metadata": {
    "collapsed": true
   },
   "outputs": [],
   "source": [
    "from nltk import word_tokenize\n",
    "from nltk.stem import WordNetLemmatizer,porter\n",
    "from nltk.corpus import stopwords\n",
    "\n",
    "from sklearn.feature_extraction.text import TfidfVectorizer, CountVectorizer\n",
    "from sklearn.decomposition import NMF, LatentDirichletAllocation\n",
    "from sklearn.linear_model import LogisticRegression\n",
    "from sklearn import metrics\n",
    "\n",
    "import string\n",
    "import pandas as pd\n",
    "import numpy as np\n",
    "import re\n",
    "\n",
    "from IPython.display import display\n",
    "import matplotlib.pyplot as plt"
   ]
  },
  {
   "cell_type": "markdown",
   "metadata": {
    "collapsed": true
   },
   "source": [
    "# Define pre-processing functions for text"
   ]
  },
  {
   "cell_type": "code",
   "execution_count": null,
   "metadata": {
    "collapsed": true
   },
   "outputs": [],
   "source": [
    "def print_top_words(model, feature_names, n_top_words):\n",
    "    for topic_idx, topic in enumerate(model.components_):\n",
    "        print(\"Topic #%d:\" % topic_idx)\n",
    "        print(\",\".join([feature_names[i]\n",
    "                        for i in topic.argsort()[:-n_top_words - 1:-1]]))\n",
    "    print()\n",
    "\n",
    "def top_words(model,feature_names,n_top_words):\n",
    "    topics = []\n",
    "    terms = []\n",
    "    for topic_idx, topic in enumerate(model.components_):\n",
    "        topics.append(topic_idx)\n",
    "        terms.append(','.join([feature_names[i] for i in topic.argsort()[:-n_top_words - 1:-1]]))\n",
    "    return pandas.DataFrame({'topic':topics,'terms':terms},columns=['topic','terms'])    \n",
    "\n",
    "def noPunct(txt):\n",
    "    punct_list = string.punctuation + '’' + '”' + '“'\n",
    "    for punct in punct_list:\n",
    "        txt = txt.replace(punct,'')\n",
    "    return txt\n",
    "\n",
    "def noNumber(txt):\n",
    "    return re.sub(r'[$\\s]*\\d+\\.?\\d*','',txt)\n",
    "\n",
    "def addNegation(x):\n",
    "    pattern = r'not (.+)[' + string.punctuation + r']'\n",
    "    q = re.search(pattern,x,flags=re.IGNORECASE)\n",
    "    if q is None:\n",
    "        return x\n",
    "    replacement = ['not_' + i for i in q.group(1).split(' ')]\n",
    "    replacement = ' '.join(replacement)\n",
    "    return x.replace(q.group(),replacement)\n",
    "\n",
    "def LemmaTokenizer(doc):\n",
    "    #doc = addNegation(doc)\n",
    "    wnl = WordNetLemmatizer()\n",
    "    lemmas =[wnl.lemmatize(t) for t in word_tokenize(doc)]\n",
    "    lemmas = [noPunct(l) for l in lemmas]\n",
    "    lemmas = [noNumber(l) for l in lemmas]\n",
    "    lemmas = list(filter(lambda x: len(x) > 0,lemmas))\n",
    "    return lemmas\n",
    "\n",
    "def StemmerTokenizer(doc):\n",
    "    #doc = addNegation(doc)\n",
    "    port = porter.PorterStemmer()\n",
    "    tokens =[port.stem(t) for t in word_tokenize(doc)]\n",
    "    tokens = [noPunct(t) for t in tokens]\n",
    "    tokens = [noNumber(l) for l in tokens]\n",
    "    tokens = list(filter(lambda x: len(x) > 0,tokens))\n",
    "    return tokens\n",
    "\n",
    "extra_stopwords = stopwords.words('english') + ['company','would','get','school','student','sally','salliemae','im','sallie','mae','loan','nt','wo','wa','tg','va','ca','mo','le','ha','sm','itt','k','smae']\n",
    "extra_stopwords = extra_stopwords + ['not_' + x for x in extra_stopwords]"
   ]
  },
  {
   "cell_type": "code",
   "execution_count": 8,
   "metadata": {},
   "outputs": [
    {
     "data": {
      "text/html": [
       "<div>\n",
       "<style>\n",
       "    .dataframe thead tr:only-child th {\n",
       "        text-align: right;\n",
       "    }\n",
       "\n",
       "    .dataframe thead th {\n",
       "        text-align: left;\n",
       "    }\n",
       "\n",
       "    .dataframe tbody tr th {\n",
       "        vertical-align: top;\n",
       "    }\n",
       "</style>\n",
       "<table border=\"1\" class=\"dataframe\">\n",
       "  <thead>\n",
       "    <tr style=\"text-align: right;\">\n",
       "      <th></th>\n",
       "      <th>score</th>\n",
       "      <th>review</th>\n",
       "    </tr>\n",
       "  </thead>\n",
       "  <tbody>\n",
       "    <tr>\n",
       "      <th>0</th>\n",
       "      <td>5</td>\n",
       "      <td>dr. goldberg offers everything i look for in a...</td>\n",
       "    </tr>\n",
       "    <tr>\n",
       "      <th>1</th>\n",
       "      <td>2</td>\n",
       "      <td>Unfortunately, the frustration of being Dr. Go...</td>\n",
       "    </tr>\n",
       "    <tr>\n",
       "      <th>2</th>\n",
       "      <td>4</td>\n",
       "      <td>Been going to Dr. Goldberg for over 10 years. ...</td>\n",
       "    </tr>\n",
       "    <tr>\n",
       "      <th>3</th>\n",
       "      <td>4</td>\n",
       "      <td>Got a letter in the mail last week that said D...</td>\n",
       "    </tr>\n",
       "    <tr>\n",
       "      <th>4</th>\n",
       "      <td>1</td>\n",
       "      <td>I don't know what Dr. Goldberg was like before...</td>\n",
       "    </tr>\n",
       "  </tbody>\n",
       "</table>\n",
       "</div>"
      ],
      "text/plain": [
       "   score                                             review\n",
       "0      5  dr. goldberg offers everything i look for in a...\n",
       "1      2  Unfortunately, the frustration of being Dr. Go...\n",
       "2      4  Been going to Dr. Goldberg for over 10 years. ...\n",
       "3      4  Got a letter in the mail last week that said D...\n",
       "4      1  I don't know what Dr. Goldberg was like before..."
      ]
     },
     "execution_count": 8,
     "metadata": {},
     "output_type": "execute_result"
    }
   ],
   "source": [
    "train = pd.read_csv(\"train.csv\",header=None,names=[\"score\",\"review\"],dtype={\"score\":np.int,\"review\":np.str})\n",
    "train.head()"
   ]
  },
  {
   "cell_type": "code",
   "execution_count": null,
   "metadata": {
    "collapsed": true
   },
   "outputs": [],
   "source": []
  },
  {
   "cell_type": "code",
   "execution_count": null,
   "metadata": {
    "collapsed": true
   },
   "outputs": [],
   "source": []
  },
  {
   "cell_type": "code",
   "execution_count": null,
   "metadata": {
    "collapsed": true
   },
   "outputs": [],
   "source": []
  },
  {
   "cell_type": "code",
   "execution_count": null,
   "metadata": {
    "collapsed": true
   },
   "outputs": [],
   "source": []
  }
 ],
 "metadata": {
  "kernelspec": {
   "display_name": "Python 3",
   "language": "python",
   "name": "python3"
  },
  "language_info": {
   "codemirror_mode": {
    "name": "ipython",
    "version": 3
   },
   "file_extension": ".py",
   "mimetype": "text/x-python",
   "name": "python",
   "nbconvert_exporter": "python",
   "pygments_lexer": "ipython3",
   "version": "3.5.3"
  }
 },
 "nbformat": 4,
 "nbformat_minor": 2
}
